{
 "cells": [
  {
   "cell_type": "code",
   "execution_count": 1,
   "id": "initial_id",
   "metadata": {
    "collapsed": true,
    "ExecuteTime": {
     "end_time": "2024-11-09T23:01:47.313247Z",
     "start_time": "2024-11-09T23:01:46.657523Z"
    }
   },
   "outputs": [],
   "source": [
    "import matplotlib.pyplot as plt\n",
    "import numpy as np\n",
    "from pyedflib import highlevel"
   ]
  },
  {
   "cell_type": "code",
   "outputs": [],
   "source": [
    "# В пояснении не нуждается\n",
    "def generate_out_for_signal(signals, signal_headers, header):\n",
    "    out = np.zeros((3, signals.shape[1]))\n",
    "    \n",
    "    ds1 = 0\n",
    "    is1 = 0\n",
    "    swd1 = 0\n",
    "    \n",
    "    for annotation in header['annotations']:\n",
    "        if annotation[2] not in ['ds1', 'is1', 'swd1', 'ds2', 'is2', 'swd2', 'dds2']:\n",
    "            raise Exception('Unknown annotation: ' + annotation[2])\n",
    "\n",
    "        if annotation[2] == 'ds1':\n",
    "            time = int(annotation[0] * signal_headers[0]['sample_rate'])\n",
    "            ds1 = time\n",
    "        elif annotation[2] == 'is1':\n",
    "            time = int(annotation[0] * signal_headers[0]['sample_rate'])\n",
    "            is1 = time\n",
    "        elif annotation[2] == 'swd1':\n",
    "            time = int(annotation[0] * signal_headers[0]['sample_rate'])\n",
    "            swd1 = time\n",
    "        elif annotation[2] == 'ds2' or annotation[2] == 'dds2':\n",
    "            time = int(annotation[0] * signal_headers[0]['sample_rate'])\n",
    "            out[0, ds1:time] = 1\n",
    "        elif annotation[2] == 'is2':\n",
    "            time = int(annotation[0] * signal_headers[0]['sample_rate'])\n",
    "            out[1, is1:time] = 1\n",
    "        elif annotation[2] == 'swd2':\n",
    "            time = int(annotation[0] * signal_headers[0]['sample_rate'])\n",
    "            out[2, swd1:time] = 1\n",
    "    return out"
   ],
   "metadata": {
    "collapsed": false,
    "ExecuteTime": {
     "end_time": "2024-11-09T23:01:48.325391Z",
     "start_time": "2024-11-09T23:01:48.318554Z"
    }
   },
   "id": "48bcacdb2d1e7aba",
   "execution_count": 2
  },
  {
   "cell_type": "code",
   "outputs": [
    {
     "data": {
      "text/plain": "((3, 8640400), (3, 8640400))"
     },
     "execution_count": 3,
     "metadata": {},
     "output_type": "execute_result"
    }
   ],
   "source": [
    "signals, signal_headers, header = highlevel.read_edf('../data/Ati4x3_12m_BL_6h_fully_marked.edf')\n",
    "out = generate_out_for_signal(signals, signal_headers, header)\n",
    "X_test = signals.T\n",
    "y_test = out.T\n",
    "signals.shape, out.shape"
   ],
   "metadata": {
    "collapsed": false,
    "ExecuteTime": {
     "end_time": "2024-11-09T23:01:52.882006Z",
     "start_time": "2024-11-09T23:01:51.189803Z"
    }
   },
   "id": "1be79e90c8f29555",
   "execution_count": 3
  },
  {
   "cell_type": "code",
   "outputs": [
    {
     "data": {
      "text/plain": "((3, 8640400), (3, 8640400))"
     },
     "execution_count": 4,
     "metadata": {},
     "output_type": "execute_result"
    }
   ],
   "source": [
    "signals, signal_headers, header = highlevel.read_edf('../data/Ati4x6_14m_BL_6h_fully_marked.edf')\n",
    "out = generate_out_for_signal(signals, signal_headers, header)\n",
    "X_train = signals.T\n",
    "y_train = out.T\n",
    "signals.shape, out.shape"
   ],
   "metadata": {
    "collapsed": false,
    "ExecuteTime": {
     "end_time": "2024-11-09T23:01:54.562539Z",
     "start_time": "2024-11-09T23:01:52.883013Z"
    }
   },
   "id": "fab2667717940e9",
   "execution_count": 4
  },
  {
   "cell_type": "code",
   "outputs": [
    {
     "data": {
      "text/plain": "(1746800.0, 88400.0, 127600.0, 2045048.0, 67013.0, 251131.0)"
     },
     "execution_count": 5,
     "metadata": {},
     "output_type": "execute_result"
    }
   ],
   "source": [
    "y_test[:, 0].sum(), y_test[:, 1].sum(), y_test[:, 2].sum(), y_train[:, 0].sum(), y_train[:, 1].sum(), y_train[:, 2].sum()"
   ],
   "metadata": {
    "collapsed": false,
    "ExecuteTime": {
     "end_time": "2024-11-09T23:01:54.872246Z",
     "start_time": "2024-11-09T23:01:54.668653Z"
    }
   },
   "id": "62df35f874192caf",
   "execution_count": 5
  },
  {
   "cell_type": "code",
   "outputs": [],
   "source": [
    "import torch\n",
    "from torch.nn import LSTM\n",
    "from torch.utils.data import TensorDataset, DataLoader, SequentialSampler\n",
    "\n",
    "class LSTMModel(torch.nn.Module):\n",
    "    def __init__(self, input_size, hidden_layer_size, output_size):\n",
    "        super().__init__()\n",
    "        self.hidden_layer_size = hidden_layer_size\n",
    "        self.lstm = LSTM(input_size, hidden_layer_size, 1)\n",
    "        self.linear = torch.nn.Linear(hidden_layer_size, output_size)\n",
    "\n",
    "    def forward(self, input_seq, hidden_cell=None):\n",
    "        lstm_out, hidden_cell_out = self.lstm(input_seq.view(len(input_seq) ,1, -1), hidden_cell)\n",
    "        predictions = self.linear(lstm_out.view(len(input_seq), -1))\n",
    "        return predictions, hidden_cell_out\n",
    "\n",
    "model = LSTMModel(3, 3, 3)\n",
    "model.train()\n",
    "x_train_torch = torch.tensor(X_train, dtype=torch.float32)\n",
    "y_train_torch = torch.tensor(y_train, dtype=torch.float32)\n",
    "dataset = TensorDataset(x_train_torch, y_train_torch)\n",
    "sampler = SequentialSampler(dataset)\n",
    "dataloader = DataLoader(dataset, batch_size=128, sampler=sampler)\n",
    "\n",
    "if torch.cuda.is_available():\n",
    "    device = 'cuda'\n",
    "else:\n",
    "    device = 'cpu'\n",
    "\n",
    "model = model.to(device)\n",
    "loss_function = torch.nn.MSELoss()\n",
    "loss_function = loss_function.to(device)\n",
    "\n",
    "optimizer = torch.optim.Adam(model.parameters(), lr=0.01)"
   ],
   "metadata": {
    "collapsed": false,
    "ExecuteTime": {
     "end_time": "2024-11-09T23:01:59.498186Z",
     "start_time": "2024-11-09T23:01:56.974008Z"
    }
   },
   "id": "36e8476a49e66e6d",
   "execution_count": 6
  },
  {
   "cell_type": "code",
   "outputs": [],
   "source": [
    "torch.cuda.empty_cache()"
   ],
   "metadata": {
    "collapsed": false,
    "ExecuteTime": {
     "end_time": "2024-11-09T22:04:08.106032Z",
     "start_time": "2024-11-09T22:04:07.796763Z"
    }
   },
   "id": "44357bb714a7e2a8",
   "execution_count": 13
  },
  {
   "cell_type": "code",
   "outputs": [
    {
     "name": "stderr",
     "output_type": "stream",
     "text": [
      "100%|██████████| 67504/67504 [02:08<00:00, 524.45it/s]\n"
     ]
    },
    {
     "name": "stdout",
     "output_type": "stream",
     "text": [
      "epoch 0, loss 169.32437133789062\n"
     ]
    },
    {
     "name": "stderr",
     "output_type": "stream",
     "text": [
      "100%|██████████| 67504/67504 [02:05<00:00, 536.64it/s]\n"
     ]
    },
    {
     "name": "stdout",
     "output_type": "stream",
     "text": [
      "epoch 1, loss 152.80780029296875\n"
     ]
    },
    {
     "name": "stderr",
     "output_type": "stream",
     "text": [
      "100%|██████████| 67504/67504 [02:17<00:00, 492.40it/s]\n"
     ]
    },
    {
     "name": "stdout",
     "output_type": "stream",
     "text": [
      "epoch 2, loss 138.02293395996094\n"
     ]
    },
    {
     "name": "stderr",
     "output_type": "stream",
     "text": [
      "  1%|          | 476/67504 [00:01<02:35, 431.16it/s]"
     ]
    }
   ],
   "source": [
    "from time import time\n",
    "from tqdm import tqdm\n",
    "\n",
    "for epoch in range(20):\n",
    "    hidden_cell = None\n",
    "    sum_loss = 0\n",
    "    t = time()\n",
    "    loss = 0\n",
    "    optimizer.zero_grad()\n",
    "    for x_train_torch, y_train_torch in tqdm(dataloader):\n",
    "        x_train_torch, y_train_torch = x_train_torch.to(device), y_train_torch.to(device)\n",
    "        outputs, hidden_cell = model(x_train_torch, hidden_cell)\n",
    "        loss += loss_function(outputs, y_train_torch)\n",
    "    loss.backward()\n",
    "    optimizer.step()\n",
    "    sum_loss += loss.detach().item()\n",
    "    print('epoch {}, loss {}'.format(epoch, sum_loss / 128))\n"
   ],
   "metadata": {
    "collapsed": false,
    "is_executing": true,
    "ExecuteTime": {
     "start_time": "2024-11-09T23:02:04.238783Z"
    }
   },
   "id": "84566e516401324e",
   "execution_count": null
  },
  {
   "cell_type": "code",
   "outputs": [
    {
     "name": "stderr",
     "output_type": "stream",
     "text": [
      " 15%|█▍        | 10000/67504 [02:07<12:13, 78.39it/s]\n"
     ]
    },
    {
     "data": {
      "text/plain": "((1280128, 3), (1280128, 3))"
     },
     "execution_count": 13,
     "metadata": {},
     "output_type": "execute_result"
    }
   ],
   "source": [
    "x_test_torch = torch.tensor(X_test, dtype=torch.float32)\n",
    "y_test_torch = torch.tensor(y_test, dtype=torch.float32)\n",
    "validation_dataset = TensorDataset(x_test_torch, y_test_torch)\n",
    "validation_sampler = SequentialSampler(validation_dataset)\n",
    "validation_loader = DataLoader(validation_dataset, batch_size=128, sampler=validation_sampler)\n",
    "\n",
    "model.eval()\n",
    "running_vloss = 0.0\n",
    "# y_pred = np.zeros((0, 3))\n",
    "# y_true = np.zeros((0, 3))\n",
    "i = 0\n",
    "with torch.no_grad():\n",
    "    hidden_cell = None\n",
    "    for input, labels in tqdm(validation_loader):\n",
    "        input, labels = input.to(device), labels.to(device)\n",
    "        output, hidden_cell = model(input, hidden_cell)\n",
    "        # y_pred = np.vstack((y_pred, output.detach().cpu().numpy()))\n",
    "        # y_true = np.vstack((y_true, labels.detach().cpu().numpy()))\n",
    "        vloss = loss_function(output, labels)\n",
    "        running_vloss += vloss\n",
    "\n",
    "y_pred.shape, y_true.shape"
   ],
   "metadata": {
    "collapsed": false,
    "ExecuteTime": {
     "end_time": "2024-11-09T22:31:41.293438Z",
     "start_time": "2024-11-09T22:29:33.644530Z"
    }
   },
   "id": "68554b65af0c2909",
   "execution_count": 13
  }
 ],
 "metadata": {
  "kernelspec": {
   "display_name": "Python 3",
   "language": "python",
   "name": "python3"
  },
  "language_info": {
   "codemirror_mode": {
    "name": "ipython",
    "version": 2
   },
   "file_extension": ".py",
   "mimetype": "text/x-python",
   "name": "python",
   "nbconvert_exporter": "python",
   "pygments_lexer": "ipython2",
   "version": "2.7.6"
  }
 },
 "nbformat": 4,
 "nbformat_minor": 5
}
