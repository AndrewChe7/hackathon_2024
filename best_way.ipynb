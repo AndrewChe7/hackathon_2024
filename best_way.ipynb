{
 "cells": [
  {
   "cell_type": "code",
   "execution_count": 1,
   "id": "initial_id",
   "metadata": {
    "ExecuteTime": {
     "end_time": "2024-11-09T00:04:44.842497Z",
     "start_time": "2024-11-09T00:04:44.838862Z"
    },
    "collapsed": true
   },
   "outputs": [],
   "source": [
    "import numpy as np\n",
    "from pyedflib import highlevel"
   ]
  },
  {
   "cell_type": "code",
   "execution_count": 2,
   "id": "ed0e08736c332a3f",
   "metadata": {
    "ExecuteTime": {
     "end_time": "2024-11-09T00:17:08.823817Z",
     "start_time": "2024-11-09T00:17:08.816673Z"
    },
    "collapsed": false
   },
   "outputs": [],
   "source": [
    "# В пояснении не нуждается\n",
    "def generate_out_for_signal(signals, signal_headers, header):\n",
    "    out = np.zeros((3, signals.shape[1]))\n",
    "\n",
    "    ds1 = 0\n",
    "    is1 = 0\n",
    "    swd1 = 0\n",
    "\n",
    "    for annotation in header['annotations']:\n",
    "        if annotation[2] not in ['ds1', 'is1', 'swd1', 'ds2', 'is2', 'swd2', 'dds2']:\n",
    "            raise Exception('Unknown annotation: ' + annotation[2])\n",
    "\n",
    "        if annotation[2] == 'ds1':\n",
    "            time = int(annotation[0] * signal_headers[0]['sample_rate'])\n",
    "            ds1 = time\n",
    "        elif annotation[2] == 'is1':\n",
    "            time = int(annotation[0] * signal_headers[0]['sample_rate'])\n",
    "            is1 = time\n",
    "        elif annotation[2] == 'swd1':\n",
    "            time = int(annotation[0] * signal_headers[0]['sample_rate'])\n",
    "            swd1 = time\n",
    "        elif annotation[2] == 'ds2' or annotation[2] == 'dds2':\n",
    "            time = int(annotation[0] * signal_headers[0]['sample_rate'])\n",
    "            out[0, ds1:time] = 1\n",
    "        elif annotation[2] == 'is2':\n",
    "            time = int(annotation[0] * signal_headers[0]['sample_rate'])\n",
    "            out[1, is1:time] = 1\n",
    "        elif annotation[2] == 'swd2':\n",
    "            time = int(annotation[0] * signal_headers[0]['sample_rate'])\n",
    "            out[2, swd1:time] = 1\n",
    "    return out"
   ]
  },
  {
   "cell_type": "code",
   "execution_count": 3,
   "id": "86d3683c",
   "metadata": {},
   "outputs": [
    {
     "data": {
      "text/plain": [
       "(3, 8640400)"
      ]
     },
     "execution_count": 3,
     "metadata": {},
     "output_type": "execute_result"
    }
   ],
   "source": [
    "signals, signal_headers, header = highlevel.read_edf(r'train_dataset_minzdrav_train\\ECoG_fully_marked_(4+2 files, 6 h each)\\Ati4x1_15m_BL_6h_fully_marked.edf')\n",
    "signals.shape"
   ]
  },
  {
   "cell_type": "code",
   "execution_count": 4,
   "id": "b5dc8888",
   "metadata": {},
   "outputs": [
    {
     "data": {
      "text/plain": [
       "(2, 8640400)"
      ]
     },
     "execution_count": 4,
     "metadata": {},
     "output_type": "execute_result"
    }
   ],
   "source": [
    "signals = signals[:-1]\n",
    "signals.shape"
   ]
  },
  {
   "cell_type": "code",
   "execution_count": 5,
   "id": "86ce310825221780",
   "metadata": {
    "ExecuteTime": {
     "end_time": "2024-11-09T00:28:20.964586Z",
     "start_time": "2024-11-09T00:28:14.712850Z"
    },
    "collapsed": false
   },
   "outputs": [
    {
     "data": {
      "text/plain": [
       "((3, 17280800), (3, 17280800))"
      ]
     },
     "execution_count": 5,
     "metadata": {},
     "output_type": "execute_result"
    }
   ],
   "source": [
    "#Собираем обучалку\n",
    "mega_signal = np.zeros((3, 0))\n",
    "mega_out = np.zeros((3, 0))\n",
    "# H2O вроде бы отравляет данные\n",
    "for file in ['Ati4x1_15m_BL_6h_fully_marked.edf', #'Ati4x1_15m_H2O_6h_fully_marked.edf', \n",
    "             #'Ati4x3_12m_BL_6h_fully_marked.edf',\n",
    "             'Ati4x6_14m_BL_6h_fully_marked.edf']:\n",
    "    signals, signal_headers, header = highlevel.read_edf(r'train_dataset_minzdrav_train\\ECoG_fully_marked_(4+2 files, 6 h each)\\\\' + file)\n",
    "    out = generate_out_for_signal(signals, signal_headers, header)\n",
    "    mega_signal = np.hstack((mega_signal, signals))\n",
    "    mega_out = np.hstack((mega_out, out))\n",
    "\n",
    "signals = mega_signal\n",
    "out = mega_out\n",
    "\n",
    "signals.shape, out.shape"
   ]
  },
  {
   "cell_type": "code",
   "execution_count": 66,
   "id": "69db417d",
   "metadata": {},
   "outputs": [],
   "source": [
    "signals, signal_headers, header = highlevel.read_edf(\n",
    "    r'train_dataset_minzdrav_train\\ECoG_fully_marked_(4+2 files, 6 h each)\\Ati4x3_12m_BL_6h_fully_marked.edf'\n",
    "    )\n",
    "out = generate_out_for_signal(signals, signal_headers, header)"
   ]
  },
  {
   "cell_type": "code",
   "execution_count": 67,
   "id": "f355edaf",
   "metadata": {},
   "outputs": [],
   "source": [
    "#header[\"annotations\"]"
   ]
  },
  {
   "cell_type": "code",
   "execution_count": 81,
   "id": "64c783cec59a5a5a",
   "metadata": {
    "ExecuteTime": {
     "end_time": "2024-11-09T00:28:24.050901Z",
     "start_time": "2024-11-09T00:28:21.995218Z"
    },
    "collapsed": false
   },
   "outputs": [
    {
     "name": "stdout",
     "output_type": "stream",
     "text": [
      "216008\n"
     ]
    }
   ],
   "source": [
    "# Делаем преобразование Фурье и генерит выборку\n",
    "def fft_conv(signals, out):\n",
    "    from scipy.fft import fft, fftfreq\n",
    "    Fs = 400\n",
    "    window = 50\n",
    "    threshold = 20\n",
    "    size = signals.shape[1]\n",
    "    padding = 10\n",
    "    n = (size - window) // (window - padding)\n",
    "    print(n)\n",
    "\n",
    "    X_fft = np.zeros((n, window))\n",
    "    _y_fft = np.zeros((n, 3))\n",
    "    frequencies = fftfreq(window, 1 / Fs)\n",
    "    buffer = np.concatenate((signals[0], np.zeros(padding)))\n",
    "    count = 0\n",
    "    for i in range(0, len(signals[0]), window - padding):\n",
    "        #print(i)\n",
    "        fft_sig_0 = fft(buffer[i:i + window]).reshape((1, window))\n",
    "        if frequencies[np.argmax(np.abs(fft_sig_0))] > 2 and frequencies[np.argmax(np.abs(fft_sig_0))] < threshold:\n",
    "            #X_fft[i, :] = np.hstack((np.abs(fft_sig_0), np.abs(fft_sig_1)))\n",
    "            X_fft[count, :] = np.abs(fft_sig_0)\n",
    "            _y_fft[count, :] = out[:, i]\n",
    "            count += 1\n",
    "    '''\n",
    "    for i in range(n):\n",
    "        fft_sig_0 = fft(signals[0, i * (window - padding):(i + 1) * (window - padding)]).reshape((1, window))\n",
    "        #fft_sig_1 = fft(signals[1, i*window:(i+1)*window]).reshape((1, window))\n",
    "        #fft_sig_2 = fft(signals[2, i*window:(i+1)*window]).reshape((1, window))\n",
    "        if frequencies[np.argmax(np.abs(fft_sig_0))] > 2 and frequencies[np.argmax(np.abs(fft_sig_0))] < threshold:\n",
    "            #X_fft[i, :] = np.hstack((np.abs(fft_sig_0), np.abs(fft_sig_1)))\n",
    "            X_fft[i, :] = np.abs(fft_sig_0)\n",
    "            _y_fft[i, :] = out[:, i * window]\n",
    "    '''\n",
    "\n",
    "    y_fft = np.zeros(n)\n",
    "    y_fft[:] = _y_fft[:, 0] + _y_fft[:, 1] * 2 + _y_fft[:, 2] * 3\n",
    "\n",
    "    return X_fft, y_fft\n",
    "\n",
    "X_fft, y_fft = fft_conv(signals, out)"
   ]
  },
  {
   "cell_type": "code",
   "execution_count": 5,
   "id": "931ce914",
   "metadata": {},
   "outputs": [
    {
     "data": {
      "text/plain": [
       "(172808, 50)"
      ]
     },
     "execution_count": 5,
     "metadata": {},
     "output_type": "execute_result"
    }
   ],
   "source": [
    "X_fft.shape"
   ]
  },
  {
   "cell_type": "code",
   "execution_count": 100,
   "id": "60a09920",
   "metadata": {},
   "outputs": [],
   "source": [
    "candidates = []\n",
    "window = 50\n",
    "padding = 10\n",
    "mean_signal = np.mean(np.abs(signals[0]))\n",
    "n = signals.shape[1] // window\n",
    "count_per_window = 0\n",
    "count = 0\n",
    "for i in range(0, len(signals[0]), window - padding):\n",
    "    max_window = np.max(np.mean(np.abs(signals[0, i:i + window])))\n",
    "    if i * window == int(5.07 * 1e6):\n",
    "        x = 0\n",
    "    if max_window / mean_signal > 1.9:\n",
    "        if np.max(X_fft[count]) > 7 and np.max(X_fft[count]) < 11:\n",
    "            count_per_window += 1\n",
    "            if count_per_window > 4:\n",
    "                #print(\"huj\")\n",
    "                candidates[len(candidates) - count_per_window:] = [3] * (count_per_window - 1)\n",
    "                candidates.append(3)\n",
    "            else:\n",
    "                candidates.append(0)\n",
    "        else:\n",
    "            candidates.append(0)\n",
    "    else:\n",
    "        #if count_per_window > 0:\n",
    "            #print(count_per_window, (400 * 2 / window) / 2)\n",
    "        count_per_window = 0\n",
    "        candidates.append(0)\n",
    "    count += 1"
   ]
  },
  {
   "cell_type": "code",
   "execution_count": 95,
   "id": "94104735",
   "metadata": {},
   "outputs": [
    {
     "data": {
      "text/plain": [
       "(216010, (216008,))"
      ]
     },
     "execution_count": 95,
     "metadata": {},
     "output_type": "execute_result"
    }
   ],
   "source": [
    "len(candidates), y_fft.shape"
   ]
  },
  {
   "cell_type": "code",
   "execution_count": 101,
   "id": "474adac6",
   "metadata": {},
   "outputs": [
    {
     "data": {
      "text/plain": [
       "11.0"
      ]
     },
     "execution_count": 101,
     "metadata": {},
     "output_type": "execute_result"
    }
   ],
   "source": [
    "np.sum(candidates) / 3"
   ]
  },
  {
   "cell_type": "code",
   "execution_count": 8,
   "id": "24320d61",
   "metadata": {},
   "outputs": [
    {
     "data": {
      "text/plain": [
       "(8640400,)"
      ]
     },
     "execution_count": 8,
     "metadata": {},
     "output_type": "execute_result"
    }
   ],
   "source": [
    "out[2].shape"
   ]
  },
  {
   "cell_type": "code",
   "execution_count": 102,
   "id": "50cc028e",
   "metadata": {},
   "outputs": [
    {
     "data": {
      "text/plain": [
       "989.0"
      ]
     },
     "execution_count": 102,
     "metadata": {},
     "output_type": "execute_result"
    }
   ],
   "source": [
    "np.sum(y_fft == 3) / 3"
   ]
  },
  {
   "cell_type": "code",
   "execution_count": 62,
   "id": "3f31f0cc",
   "metadata": {},
   "outputs": [
    {
     "name": "stdout",
     "output_type": "stream",
     "text": [
      "Number of nonzero elements between indices a and b: 2400\n"
     ]
    }
   ],
   "source": [
    "selected_elements = out[2][int(5.0675 * 1e6)  : int(5.0725* 1e6) + 1]\n",
    "\n",
    "# Count the number of nonzero elements\n",
    "nonzero_count = np.count_nonzero(selected_elements)\n",
    "\n",
    "print(\"Number of nonzero elements between indices a and b:\", nonzero_count)"
   ]
  },
  {
   "cell_type": "code",
   "execution_count": 58,
   "id": "a12a885e",
   "metadata": {},
   "outputs": [
    {
     "data": {
      "image/png": "[encoded data removed]",
      "text/plain": [
       "<Figure size 640x480 with 1 Axes>"
      ]
     },
     "metadata": {},
     "output_type": "display_data"
    }
   ],
   "source": [
    "import matplotlib.pyplot as plt\n",
    "\n",
    "plt.plot(signals[0])\n",
    "plt.plot(out[2], alpha = .7)\n",
    "plt.xlim(57450 * 50, 57550 * 50)\n",
    "plt.grid()\n",
    "#plt.xticks(np.arange(0, 10_000_000, step=500_000))\n",
    "\n",
    "plt.show()"
   ]
  },
  {
   "cell_type": "code",
   "execution_count": 82,
   "id": "cd4465ae",
   "metadata": {},
   "outputs": [
    {
     "data": {
      "image/png": "[encoded data removed]",
      "text/plain": [
       "<Figure size 640x480 with 1 Axes>"
      ]
     },
     "metadata": {},
     "output_type": "display_data"
    }
   ],
   "source": [
    "plt.plot((y_fft == 3) * 3)\n",
    "#plt.xlim(101400 - 10, 101400 + 10)\n",
    "plt.xlim(57_400, 57_800)\n",
    "plt.plot(candidates, color = \"red\", alpha = .5)\n",
    "plt.grid()\n",
    "plt.show()"
   ]
  },
  {
   "cell_type": "code",
   "execution_count": 7,
   "id": "2f9a2fbd",
   "metadata": {},
   "outputs": [
    {
     "data": {
      "text/plain": [
       "(86404, 4)"
      ]
     },
     "execution_count": 7,
     "metadata": {},
     "output_type": "execute_result"
    }
   ],
   "source": [
    "y_fft_r = []\n",
    "\n",
    "for i in y_fft:\n",
    "  if i == 0:\n",
    "    y_fft_r.append([1, 0, 0, 0])\n",
    "  if i == 1:\n",
    "    y_fft_r.append([0, 1, 0, 0])\n",
    "  if i == 2:\n",
    "    y_fft_r.append([0, 0, 1, 0])\n",
    "  if i == 3:\n",
    "    y_fft_r.append([0, 0, 0, 1])\n",
    "\n",
    "y_fft_r = np.array(y_fft_r)\n",
    "y_fft_r.shape"
   ]
  },
  {
   "cell_type": "code",
   "execution_count": 8,
   "id": "4a58fd13a0a56455",
   "metadata": {
    "ExecuteTime": {
     "end_time": "2024-11-09T00:28:55.765780Z",
     "start_time": "2024-11-09T00:28:26.944822Z"
    },
    "collapsed": false
   },
   "outputs": [
    {
     "data": {
      "text/plain": [
       "((2022, 400), (674, 400), (2022,), (674,))"
      ]
     },
     "execution_count": 8,
     "metadata": {},
     "output_type": "execute_result"
    }
   ],
   "source": [
    "from imblearn.under_sampling import RandomUnderSampler\n",
    "# Делаем нормализацию и балансировку\n",
    "from sklearn.model_selection import train_test_split\n",
    "from sklearn.preprocessing import StandardScaler\n",
    "\n",
    "scaler = StandardScaler()\n",
    "X_fft = scaler.fit_transform(X_fft)\n",
    "tom = RandomUnderSampler()\n",
    "X_fft_under, y_fft_under = tom.fit_resample(X_fft, y_fft)\n",
    "\n",
    "X_train, X_test, y_train, y_test = train_test_split(X_fft_under, y_fft_under, test_size=0.25)\n",
    "X_train.shape, X_test.shape, y_train.shape, y_test.shape"
   ]
  },
  {
   "cell_type": "markdown",
   "id": "376ebdaf",
   "metadata": {},
   "source": [
    "# CATBOOST"
   ]
  },
  {
   "cell_type": "code",
   "execution_count": 9,
   "id": "6efb6a4e",
   "metadata": {},
   "outputs": [],
   "source": [
    "from catboost import CatBoostClassifier\n",
    "from sklearn.metrics import classification_report, make_scorer, recall_score\n",
    "from sklearn.model_selection import RandomizedSearchCV"
   ]
  },
  {
   "cell_type": "code",
   "execution_count": 11,
   "id": "624fa7c8",
   "metadata": {},
   "outputs": [
    {
     "name": "stdout",
     "output_type": "stream",
     "text": [
      "0:\tlearn: 1.0694923\ttotal: 19.4ms\tremaining: 19.3s\n",
      "500:\tlearn: 0.0114881\ttotal: 5.99s\tremaining: 5.96s\n",
      "999:\tlearn: 0.0042778\ttotal: 11.9s\tremaining: 0us\n"
     ]
    },
    {
     "data": {
      "text/plain": [
       "<catboost.core.CatBoostClassifier at 0x1f36ad89dc0>"
      ]
     },
     "execution_count": 11,
     "metadata": {},
     "output_type": "execute_result"
    }
   ],
   "source": [
    "# Initialize the CatBoost classifier\n",
    "catboost = CatBoostClassifier(loss_function='MultiClass', task_type=\"GPU\", class_weights=\"Balanced\",\n",
    "                               verbose=500, depth = 6, learning_rate = .3, iterations = 1000, random_seed=42, #l2_leaf_reg = .3\n",
    "                               )\n",
    "\n",
    "#recall_scorer = make_scorer(recall_score, average='macro')\n",
    "\n",
    "# Perform RandomizedSearchCV\n",
    "#random_search_catboost = RandomizedSearchCV(estimator=catboost, param_distributions=param_grid, cv=3, n_iter=10, scoring=recall_scorer)\n",
    "\n",
    "# Fit the model\n",
    "catboost.fit(X_train, y_train)"
   ]
  },
  {
   "cell_type": "code",
   "execution_count": 12,
   "id": "b9d578f3",
   "metadata": {},
   "outputs": [
    {
     "data": {
      "text/plain": [
       "((3, 8640400), (3, 8640400))"
      ]
     },
     "execution_count": 12,
     "metadata": {},
     "output_type": "execute_result"
    }
   ],
   "source": [
    "#Собираем обучалку\n",
    "mega_signal = np.zeros((3, 0))\n",
    "mega_out = np.zeros((3, 0))\n",
    "# H2O вроде бы отравляет данные\n",
    "for file in ['Ati4x3_12m_BL_6h_fully_marked.edf']:\n",
    "    signals, signal_headers, header = highlevel.read_edf(r'train_dataset_minzdrav_train\\ECoG_fully_marked_(4+2 files, 6 h each)\\\\' + file)\n",
    "    out = generate_out_for_signal(signals, signal_headers, header)\n",
    "    mega_signal = np.hstack((mega_signal, signals))\n",
    "    mega_out = np.hstack((mega_out, out))\n",
    "\n",
    "signals = mega_signal\n",
    "out = mega_out\n",
    "\n",
    "signals.shape, out.shape"
   ]
  },
  {
   "cell_type": "code",
   "execution_count": 13,
   "id": "a45dec3f",
   "metadata": {},
   "outputs": [
    {
     "data": {
      "text/plain": [
       "(43202, 4)"
      ]
     },
     "execution_count": 13,
     "metadata": {},
     "output_type": "execute_result"
    }
   ],
   "source": [
    "X_fft, y_fft = fft_conv(signals, out)\n",
    "X_fft = scaler.fit_transform(X_fft)\n",
    "y_fft_r = []\n",
    "\n",
    "for i in y_fft:\n",
    "  if i == 0:\n",
    "    y_fft_r.append([1, 0, 0, 0])\n",
    "  if i == 1:\n",
    "    y_fft_r.append([0, 1, 0, 0])\n",
    "  if i == 2:\n",
    "    y_fft_r.append([0, 0, 1, 0])\n",
    "  if i == 3:\n",
    "    y_fft_r.append([0, 0, 0, 1])\n",
    "\n",
    "y_fft_r = np.array(y_fft_r)\n",
    "y_fft_r.shape"
   ]
  },
  {
   "cell_type": "code",
   "execution_count": 14,
   "id": "6e9d6c99",
   "metadata": {},
   "outputs": [],
   "source": [
    "y_pred = catboost.predict(X_fft)"
   ]
  },
  {
   "cell_type": "code",
   "execution_count": 16,
   "id": "48132b5c",
   "metadata": {},
   "outputs": [
    {
     "name": "stdout",
     "output_type": "stream",
     "text": [
      "              precision    recall  f1-score   support\n",
      "\n",
      "         0.0       1.00      0.70      0.82     38494\n",
      "         1.0       0.47      0.79      0.59      3717\n",
      "         2.0       0.03      0.73      0.06       364\n",
      "         3.0       0.69      0.90      0.78       627\n",
      "\n",
      "    accuracy                           0.71     43202\n",
      "   macro avg       0.55      0.78      0.56     43202\n",
      "weighted avg       0.94      0.71      0.80     43202\n",
      "\n"
     ]
    }
   ],
   "source": [
    "print(classification_report(y_fft, y_pred))"
   ]
  },
  {
   "cell_type": "markdown",
   "id": "7d8d31d3",
   "metadata": {},
   "source": [
    "# MULTILAYER PERCEPTRON"
   ]
  },
  {
   "cell_type": "code",
   "execution_count": 8,
   "id": "1976fe65",
   "metadata": {},
   "outputs": [],
   "source": [
    "import torch\n",
    "import torch.nn as nn\n",
    "import torch.optim as optim\n",
    "from torch.utils.data import DataLoader, TensorDataset\n",
    "from sklearn.metrics import recall_score\n",
    "import matplotlib.pyplot as plt\n",
    "\n",
    "# Define the model\n",
    "class FCNN(nn.Module):\n",
    "    def __init__(self, input_size, hidden_size, num_classes):\n",
    "        super(FCNN, self).__init__()\n",
    "        self.fc1 = nn.Linear(input_size, hidden_size)\n",
    "        self.fc2 = nn.Linear(hidden_size, hidden_size)\n",
    "        self.fc3 = nn.Linear(hidden_size, num_classes)\n",
    "        self.relu = nn.ReLU()\n",
    "        self.Drop = nn.Dropout(p=0.3)\n",
    "    \n",
    "    def forward(self, x):\n",
    "        x = self.relu(self.fc1(x))\n",
    "        x = self.Drop(x)\n",
    "        x = self.relu(self.fc2(x))\n",
    "        x = self.fc3(x)\n",
    "        return x\n",
    "\n",
    "# Hyperparameters\n",
    "input_size = 200  # As per your input shape\n",
    "hidden_size = 512\n",
    "num_classes = 4  # Assuming binary classification\n",
    "learning_rate = 1e-5\n",
    "num_epochs = 100\n",
    "batch_size = 64\n",
    "threshold = 1e-4"
   ]
  },
  {
   "cell_type": "code",
   "execution_count": 9,
   "id": "55966d06",
   "metadata": {},
   "outputs": [],
   "source": [
    "# Example data loading\n",
    "X_train_tensor = torch.tensor(X_train, dtype=torch.float32)\n",
    "X_test_tensor = torch.tensor(X_test, dtype=torch.float32)\n",
    "y_train_tensor = torch.tensor(y_train, dtype=torch.long)\n",
    "y_test_tensor = torch.tensor(y_test, dtype=torch.long)\n",
    "\n",
    "# Data loaders\n",
    "train_dataset = TensorDataset(X_train_tensor, y_train_tensor)\n",
    "test_dataset = TensorDataset(X_test_tensor, y_test_tensor)\n",
    "train_loader = DataLoader(train_dataset, batch_size=batch_size, shuffle=True)\n",
    "test_loader = DataLoader(test_dataset, batch_size=batch_size, shuffle=False)"
   ]
  },
  {
   "cell_type": "code",
   "execution_count": 10,
   "id": "c65202da",
   "metadata": {},
   "outputs": [],
   "source": [
    "device = torch.device('cuda:0') if torch.cuda.is_available else torch.device('cpu')"
   ]
  },
  {
   "cell_type": "code",
   "execution_count": 11,
   "id": "3be0a733",
   "metadata": {},
   "outputs": [],
   "source": [
    "# Initialize the model, loss function, and optimizer\n",
    "model = FCNN(input_size, hidden_size, num_classes)\n",
    "model = model.to(device)\n",
    "criterion = nn.CrossEntropyLoss()\n",
    "optimizer = optim.AdamW(model.parameters(), lr=learning_rate)"
   ]
  },
  {
   "cell_type": "code",
   "execution_count": 12,
   "id": "63d902da",
   "metadata": {},
   "outputs": [
    {
     "name": "stdout",
     "output_type": "stream",
     "text": [
      "Epoch [1/100], Train Loss: 0.3386, Test Loss: 0.2315, Train Recall: 0.3755, Test Recall: 0.5559\n",
      "Epoch [2/100], Train Loss: 0.2234, Test Loss: 0.2083, Train Recall: 0.5206, Test Recall: 0.5795\n",
      "Epoch [3/100], Train Loss: 0.2114, Test Loss: 0.2019, Train Recall: 0.5495, Test Recall: 0.5800\n",
      "Epoch [4/100], Train Loss: 0.2063, Test Loss: 0.2006, Train Recall: 0.5583, Test Recall: 0.6001\n",
      "Epoch [5/100], Train Loss: 0.2030, Test Loss: 0.1978, Train Recall: 0.5685, Test Recall: 0.6026\n",
      "Epoch [6/100], Train Loss: 0.2010, Test Loss: 0.1960, Train Recall: 0.5740, Test Recall: 0.5924\n",
      "Epoch [7/100], Train Loss: 0.1992, Test Loss: 0.1951, Train Recall: 0.5760, Test Recall: 0.5972\n",
      "Epoch [8/100], Train Loss: 0.1980, Test Loss: 0.1945, Train Recall: 0.5791, Test Recall: 0.6058\n",
      "Epoch [9/100], Train Loss: 0.1966, Test Loss: 0.1935, Train Recall: 0.5838, Test Recall: 0.5980\n",
      "Epoch [10/100], Train Loss: 0.1956, Test Loss: 0.1929, Train Recall: 0.5842, Test Recall: 0.6009\n",
      "Epoch [11/100], Train Loss: 0.1945, Test Loss: 0.1925, Train Recall: 0.5874, Test Recall: 0.5983\n",
      "Epoch [12/100], Train Loss: 0.1939, Test Loss: 0.1926, Train Recall: 0.5858, Test Recall: 0.6059\n",
      "Early stopper\n"
     ]
    }
   ],
   "source": [
    "# For tracking metrics\n",
    "train_losses = []\n",
    "test_losses = []\n",
    "train_recalls = []\n",
    "test_recalls = []\n",
    "\n",
    "# Training loop\n",
    "for epoch in range(num_epochs):\n",
    "    model.train()\n",
    "    running_loss = 0.0\n",
    "    all_preds = []\n",
    "    all_labels = []\n",
    "    \n",
    "    for X_batch, y_batch in train_loader:\n",
    "        X_batch = X_batch.to(device)\n",
    "        y_batch = y_batch.to(device)\n",
    "        optimizer.zero_grad()\n",
    "        outputs = model(X_batch)\n",
    "        loss = criterion(outputs, y_batch)\n",
    "        loss.backward()\n",
    "        optimizer.step()\n",
    "        \n",
    "        running_loss += loss.item()\n",
    "        _, preds = torch.max(outputs, 1)\n",
    "        all_preds.extend(preds.cpu().numpy())\n",
    "        all_labels.extend(y_batch.cpu().numpy())\n",
    "    \n",
    "    train_loss = running_loss / len(train_loader)\n",
    "    train_losses.append(train_loss)\n",
    "    train_recall = recall_score(all_labels, all_preds, average=\"macro\")\n",
    "    train_recalls.append(train_recall)\n",
    "    \n",
    "    # Evaluation\n",
    "    model.eval()\n",
    "    running_loss = 0.0\n",
    "    all_preds = []\n",
    "    all_labels = []\n",
    "    with torch.no_grad():\n",
    "        for X_batch, y_batch in test_loader:\n",
    "            X_batch = X_batch.to(device)\n",
    "            y_batch = y_batch.to(device)\n",
    "            outputs = model(X_batch)\n",
    "            loss = criterion(outputs, y_batch)\n",
    "            running_loss += loss.item()\n",
    "            _, preds = torch.max(outputs, 1)\n",
    "            all_preds.extend(preds.cpu().numpy())\n",
    "            all_labels.extend(y_batch.cpu().numpy())\n",
    "    \n",
    "    test_loss = running_loss / len(test_loader)\n",
    "    test_losses.append(test_loss)\n",
    "    test_recall = recall_score(all_labels, all_preds, average=\"macro\")\n",
    "    test_recalls.append(test_recall)\n",
    "    \n",
    "    print(f\"Epoch [{epoch + 1}/{num_epochs}], Train Loss: {train_loss:.4f}, Test Loss: {test_loss:.4f}, Train Recall: {train_recall:.4f}, Test Recall: {test_recall:.4f}\")\n",
    "\n",
    "    if epoch > 1:\n",
    "        if np.abs(test_losses[-1] - test_losses[-2]) < threshold:\n",
    "            print(\"Early stopper\")\n",
    "            break"
   ]
  },
  {
   "cell_type": "code",
   "execution_count": 13,
   "id": "f959c603",
   "metadata": {},
   "outputs": [
    {
     "data": {
      "image/png": "[encoded data removed]",
      "text/plain": [
       "<Figure size 1200x500 with 2 Axes>"
      ]
     },
     "metadata": {},
     "output_type": "display_data"
    }
   ],
   "source": [
    "# Plotting loss and recall\n",
    "plt.figure(figsize=(12, 5))\n",
    "plt.subplot(1, 2, 1)\n",
    "plt.plot(train_losses, label='Train Loss')\n",
    "plt.plot(test_losses, label='Test Loss')\n",
    "plt.xlabel('Epoch')\n",
    "plt.ylabel('Loss')\n",
    "plt.legend()\n",
    "plt.title('Loss over Epochs')\n",
    "\n",
    "plt.subplot(1, 2, 2)\n",
    "plt.plot(train_recalls, label='Train Recall')\n",
    "plt.plot(test_recalls, label='Test Recall')\n",
    "plt.xlabel('Epoch')\n",
    "plt.ylabel('Recall')\n",
    "plt.legend()\n",
    "plt.title('Recall over Epochs')\n",
    "\n",
    "plt.tight_layout()\n",
    "plt.show()"
   ]
  },
  {
   "cell_type": "markdown",
   "id": "a14ee13a",
   "metadata": {},
   "source": [
    "# LOGREG"
   ]
  },
  {
   "cell_type": "code",
   "execution_count": 14,
   "id": "3c2e12cdac643ef3",
   "metadata": {
    "ExecuteTime": {
     "end_time": "2024-11-09T00:32:31.232719Z",
     "start_time": "2024-11-09T00:28:55.767329Z"
    },
    "collapsed": false
   },
   "outputs": [
    {
     "data": {
      "text/plain": [
       "(0.8000709843680076, 0.7996286180166556)"
      ]
     },
     "execution_count": 14,
     "metadata": {},
     "output_type": "execute_result"
    }
   ],
   "source": [
    "# Обучаем модель\n",
    "from sklearn.linear_model import LogisticRegression\n",
    "\n",
    "model = LogisticRegression(max_iter=1000,\n",
    "                           solver='saga',\n",
    "                           penalty= 'elasticnet',\n",
    "                           l1_ratio= 0.5,\n",
    "                           class_weight=\"balanced\",\n",
    "                           n_jobs=-1)\n",
    "model.fit(X_train, y_train)\n",
    "model.score(X_test, y_test), model.score(X_train, y_train)"
   ]
  },
  {
   "cell_type": "code",
   "execution_count": 15,
   "id": "e0b91987446882c3",
   "metadata": {
    "ExecuteTime": {
     "end_time": "2024-11-09T00:32:49.545158Z",
     "start_time": "2024-11-09T00:32:49.262144Z"
    },
    "collapsed": false
   },
   "outputs": [
    {
     "name": "stdout",
     "output_type": "stream",
     "text": [
      "              precision    recall  f1-score   support\n",
      "\n",
      "         0.0       0.99      0.82      0.90    224989\n",
      "         1.0       0.54      0.68      0.60     29360\n",
      "         2.0       0.03      0.58      0.06      1659\n",
      "         3.0       0.53      0.80      0.64      3204\n",
      "\n",
      "    accuracy                           0.80    259212\n",
      "   macro avg       0.52      0.72      0.55    259212\n",
      "weighted avg       0.93      0.80      0.85    259212\n",
      "\n"
     ]
    }
   ],
   "source": [
    "# Смотрим на качество\n",
    "from sklearn.metrics import classification_report\n",
    "\n",
    "print(classification_report(y_fft, model.predict(X_fft)))"
   ]
  },
  {
   "cell_type": "code",
   "execution_count": null,
   "id": "ed383f0b9d059d07",
   "metadata": {
    "ExecuteTime": {
     "end_time": "2024-11-09T00:35:53.828865Z",
     "start_time": "2024-11-09T00:35:43.408706Z"
    },
    "collapsed": false
   },
   "outputs": [
    {
     "name": "stdout",
     "output_type": "stream",
     "text": [
      "File: Ati4x1_15m_BL_6h_fully_marked.edf Score: 0.812161474005833\n",
      "              precision    recall  f1-score   support\n",
      "\n",
      "         0.0       1.00      0.81      0.89     73411\n",
      "         1.0       0.44      0.94      0.60     11699\n",
      "         2.0       0.04      0.10      0.06       860\n",
      "         3.0       0.02      0.01      0.02       434\n",
      "\n",
      "    accuracy                           0.81     86404\n",
      "   macro avg       0.38      0.46      0.39     86404\n",
      "weighted avg       0.91      0.81      0.84     86404\n",
      "\n",
      "File: Ati4x1_15m_H2O_6h_fully_marked.edf Score: 0.7138095458543586\n",
      "              precision    recall  f1-score   support\n",
      "\n",
      "         0.0       1.00      0.69      0.82     78141\n",
      "         1.0       0.25      0.94      0.40      8119\n",
      "         2.0       0.01      0.20      0.03       144\n",
      "         3.0       0.00      0.00      0.00         0\n",
      "\n",
      "    accuracy                           0.71     86404\n",
      "   macro avg       0.32      0.46      0.31     86404\n",
      "weighted avg       0.93      0.71      0.78     86404\n",
      "\n"
     ]
    },
    {
     "name": "stderr",
     "output_type": "stream",
     "text": [
      "/home/michelangelo/miniconda3/envs/hack/lib/python3.8/site-packages/sklearn/metrics/_classification.py:1469: UndefinedMetricWarning: Recall and F-score are ill-defined and being set to 0.0 in labels with no true samples. Use `zero_division` parameter to control this behavior.\n",
      "  _warn_prf(average, modifier, msg_start, len(result))\n",
      "/home/michelangelo/miniconda3/envs/hack/lib/python3.8/site-packages/sklearn/metrics/_classification.py:1469: UndefinedMetricWarning: Recall and F-score are ill-defined and being set to 0.0 in labels with no true samples. Use `zero_division` parameter to control this behavior.\n",
      "  _warn_prf(average, modifier, msg_start, len(result))\n",
      "/home/michelangelo/miniconda3/envs/hack/lib/python3.8/site-packages/sklearn/metrics/_classification.py:1469: UndefinedMetricWarning: Recall and F-score are ill-defined and being set to 0.0 in labels with no true samples. Use `zero_division` parameter to control this behavior.\n",
      "  _warn_prf(average, modifier, msg_start, len(result))\n"
     ]
    },
    {
     "name": "stdout",
     "output_type": "stream",
     "text": [
      "File: Ati4x3_12m_BL_6h_fully_marked.edf Score: 0.6372853108652378\n",
      "              precision    recall  f1-score   support\n",
      "\n",
      "         0.0       1.00      0.60      0.75     75953\n",
      "         1.0       0.22      0.96      0.36      8899\n",
      "         2.0       0.08      0.12      0.10       458\n",
      "         3.0       0.62      0.91      0.74      1094\n",
      "\n",
      "    accuracy                           0.64     86404\n",
      "   macro avg       0.48      0.65      0.49     86404\n",
      "weighted avg       0.91      0.64      0.71     86404\n",
      "\n",
      "File: Ati4x6_14m_BL_6h_fully_marked.edf Score: 0.6570181936021481\n",
      "              precision    recall  f1-score   support\n",
      "\n",
      "         0.0       1.00      0.62      0.77     75625\n",
      "         1.0       0.25      0.95      0.39      8762\n",
      "         2.0       0.02      0.18      0.04       341\n",
      "         3.0       0.56      0.93      0.70      1676\n",
      "\n",
      "    accuracy                           0.66     86404\n",
      "   macro avg       0.46      0.67      0.47     86404\n",
      "weighted avg       0.91      0.66      0.72     86404\n",
      "\n"
     ]
    }
   ],
   "source": [
    "# Проверяем на полных файликах\n",
    "for file in ['Ati4x1_15m_BL_6h_fully_marked.edf', 'Ati4x1_15m_H2O_6h_fully_marked.edf', \n",
    "             'Ati4x3_12m_BL_6h_fully_marked.edf', 'Ati4x6_14m_BL_6h_fully_marked.edf']:\n",
    "    signals, signal_headers, header = highlevel.read_edf(r'train_dataset_minzdrav_train\\ECoG_fully_marked_(4+2 files, 6 h each)\\\\' + file)\n",
    "    signals = signals[:-1]\n",
    "    out = generate_out_for_signal(signals, signal_headers, header)\n",
    "    \n",
    "    X_fft, y_fft = fft_conv(signals, out)\n",
    "    s = model.score(X_fft, y_fft)\n",
    "    print('File:', file, 'Score:', s)\n",
    "    print(classification_report(y_fft, model.predict(X_fft)))"
   ]
  },
  {
   "cell_type": "code",
   "execution_count": null,
   "id": "a65e77f991bfcbfa",
   "metadata": {
    "ExecuteTime": {
     "end_time": "2024-11-09T00:37:07.418404Z",
     "start_time": "2024-11-09T00:36:56.494475Z"
    },
    "collapsed": false
   },
   "outputs": [],
   "source": [
    "# Все данные\n",
    "mega_signal = np.zeros((3, 0))\n",
    "mega_out = np.zeros((3, 0))\n",
    "for file in ['Ati4x1_15m_BL_6h_fully_marked.edf', 'Ati4x1_15m_H2O_6h_fully_marked.edf', \n",
    "             'Ati4x3_12m_BL_6h_fully_marked.edf', 'Ati4x6_14m_BL_6h_fully_marked.edf']:\n",
    "    signals, signal_headers, header = highlevel.read_edf(r'train_dataset_minzdrav_train\\ECoG_fully_marked_(4+2 files, 6 h each)\\\\' + file)\n",
    "    #signals = signals[:-1]\n",
    "    out = generate_out_for_signal(signals, signal_headers, header)\n",
    "    mega_signal = np.hstack((mega_signal, signals))\n",
    "    mega_out = np.hstack((mega_out, out))\n",
    "\n",
    "signals = mega_signal\n",
    "out = mega_out\n",
    "X_fft, y_fft = fft_conv(signals, out)\n",
    "X_fft = scaler.fit_transform(X_fft)"
   ]
  },
  {
   "cell_type": "code",
   "execution_count": 20,
   "id": "9062c74c43eacb0b",
   "metadata": {
    "ExecuteTime": {
     "end_time": "2024-11-09T00:37:07.799305Z",
     "start_time": "2024-11-09T00:37:07.422414Z"
    },
    "collapsed": false
   },
   "outputs": [
    {
     "data": {
      "text/plain": [
       "0.791517175130781"
      ]
     },
     "execution_count": 20,
     "metadata": {},
     "output_type": "execute_result"
    }
   ],
   "source": [
    "model.score(X_fft, y_fft)"
   ]
  },
  {
   "cell_type": "code",
   "execution_count": 21,
   "id": "5e756f46ddd4b20a",
   "metadata": {
    "ExecuteTime": {
     "end_time": "2024-11-09T00:37:08.239978Z",
     "start_time": "2024-11-09T00:37:07.800312Z"
    },
    "collapsed": false
   },
   "outputs": [
    {
     "name": "stdout",
     "output_type": "stream",
     "text": [
      "              precision    recall  f1-score   support\n",
      "\n",
      "         0.0       0.99      0.81      0.89    303130\n",
      "         1.0       0.55      0.67      0.60     37479\n",
      "         2.0       0.02      0.59      0.04      1803\n",
      "         3.0       0.44      0.80      0.57      3204\n",
      "\n",
      "    accuracy                           0.79    345616\n",
      "   macro avg       0.50      0.72      0.53    345616\n",
      "weighted avg       0.93      0.79      0.85    345616\n",
      "\n"
     ]
    }
   ],
   "source": [
    "print(classification_report(y_fft, model.predict(X_fft)))"
   ]
  }
 ],
 "metadata": {
  "kernelspec": {
   "display_name": "Python 3",
   "language": "python",
   "name": "python3"
  },
  "language_info": {
   "codemirror_mode": {
    "name": "ipython",
    "version": 3
   },
   "file_extension": ".py",
   "mimetype": "text/x-python",
   "name": "python",
   "nbconvert_exporter": "python",
   "pygments_lexer": "ipython3",
   "version": "3.12.2"
  }
 },
 "nbformat": 4,
 "nbformat_minor": 5
}
